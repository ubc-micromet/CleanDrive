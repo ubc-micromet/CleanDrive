{
 "cells": [
  {
   "cell_type": "markdown",
   "id": "e74a5409",
   "metadata": {},
   "source": [
    "# Clean the G: drive\n"
   ]
  },
  {
   "cell_type": "code",
   "execution_count": 3,
   "id": "507980ba",
   "metadata": {},
   "outputs": [
    {
     "name": "stdout",
     "output_type": "stream",
     "text": [
      "There are 8 files in: Projects/2014-BB1 Burns Bog/Flux-tower/EP_outputs/eddypro_stats (3)  \n",
      "\n",
      "They will be checked against: Projects/2014-BB1 Burns Bog/Flux-tower/EP_outputs/eddypro_stats \n",
      "\n",
      "If they are not copies, they will be moved there.  Otherwise, you will be given the option to delete them.\n"
     ]
    }
   ],
   "source": [
    "import os\n",
    "import shutil\n",
    "from ipywidgets import FloatProgress\n",
    "\n",
    "# Different for every user\n",
    "gDrive = 'G:/.shortcut-targets-by-id/1txCh9lZ7VGCujXGvBaJCMVnuxT-65q4K/Micromet Lab/'\n",
    "\n",
    "# Working directory in the G:drive\n",
    "Dir = 'Projects/2014-BB1 Burns Bog/Flux-tower/EP_outputs/'\n",
    "\n",
    "# Destination Folder\n",
    "Destination = Dir+'eddypro_stats'\n",
    "\n",
    "# Extra Folder\n",
    "Redundant = Dir+'eddypro_stats (3)'\n",
    "\n",
    "# Calculate how many files are in the extra folder\n",
    "Files_to_Move = os.listdir(gDrive+Redundant)\n",
    "print('There are',str(len(Files_to_Move)), 'files in:',Redundant,\n",
    "      ' \\n\\nThey will be checked against:',Destination,\n",
    "      '\\n\\nIf they are not copies, they will be moved there.  Otherwise, you will be given the option to delete them.')"
   ]
  },
  {
   "cell_type": "markdown",
   "id": "ed725323",
   "metadata": {},
   "source": [
    "# Move the files"
   ]
  },
  {
   "cell_type": "code",
   "execution_count": 4,
   "id": "2d73e555",
   "metadata": {},
   "outputs": [
    {
     "data": {
      "application/vnd.jupyter.widget-view+json": {
       "model_id": "cec9b45efd9142ed815f6b5719ddf862",
       "version_major": 2,
       "version_minor": 0
      },
      "text/plain": [
       "FloatProgress(value=0.0, description='Checking:')"
      ]
     },
     "metadata": {},
     "output_type": "display_data"
    },
    {
     "name": "stdout",
     "output_type": "stream",
     "text": [
      "Moved  7  Files\n",
      "1  files remaining in  Projects/2014-BB1 Burns Bog/Flux-tower/EP_outputs/eddypro_stats (3)\n",
      "1  are duplicates which already exist in  Projects/2014-BB1 Burns Bog/Flux-tower/EP_outputs/eddypro_stats\n",
      "Delete? Y/N:Y\n"
     ]
    },
    {
     "data": {
      "application/vnd.jupyter.widget-view+json": {
       "model_id": "88fddd32de94411e9cce7befab189559",
       "version_major": 2,
       "version_minor": 0
      },
      "text/plain": [
       "FloatProgress(value=0.0, description='Deleting:')"
      ]
     },
     "metadata": {},
     "output_type": "display_data"
    },
    {
     "name": "stdout",
     "output_type": "stream",
     "text": [
      "Done\n"
     ]
    }
   ],
   "source": [
    "# Progress Bar\n",
    "i = 0\n",
    "prog = FloatProgress(min=0, max=100,description='Checking:')\n",
    "prog.value=0\n",
    "display(prog)\n",
    "\n",
    "Duplicated = []\n",
    "\n",
    "for file in Files_to_Move:\n",
    "    i+=1\n",
    "    prog.value=i/len(Files_to_Move)*100\n",
    "    if not os.path.exists(gDrive+Destination+'/'+file):\n",
    "        os.rename(gDrive+Redundant+'/'+file, gDrive+Destination+'/'+file)\n",
    "    else:\n",
    "        Duplicated.append(file)\n",
    "    \n",
    "print('Moved ',str(i-len(Duplicated)), ' Files')\n",
    "\n",
    "Files_Remaining = os.listdir(gDrive+Redundant)\n",
    "\n",
    "if len(Files_Remaining) == 0:\n",
    "    print('Remove Empty Directory: ',Redundant)\n",
    "    Del = input('Y/N: ')\n",
    "    if Del == 'Y' or Del == 'y':\n",
    "        os.rmdir(gDrive+Redundant)\n",
    "else:\n",
    "    print(str(len(Files_Remaining)), ' files remaining in ',Redundant)\n",
    "    print(str(len(Duplicated)), ' are duplicates which already exist in ', Destination)\n",
    "    Del = input('Delete? Y/N:')\n",
    "    if Del == 'Y' or Del == 'y':\n",
    "        i = 0\n",
    "        prog2 = FloatProgress(min=0, max=100,description='Deleting:')\n",
    "        prog2.value=0\n",
    "        display(prog2)\n",
    "        for file in Files_Remaining:\n",
    "            os.remove(gDrive+Redundant+'/'+file)\n",
    "            i+=1\n",
    "            prog2.value=i/len(Files_Remaining)*100\n",
    "        os.rmdir(gDrive+Redundant)\n",
    "            \n",
    "print('Done')"
   ]
  },
  {
   "cell_type": "code",
   "execution_count": null,
   "id": "7bdef929",
   "metadata": {},
   "outputs": [],
   "source": []
  }
 ],
 "metadata": {
  "kernelspec": {
   "display_name": "geo-env",
   "language": "python",
   "name": "geo-env"
  },
  "language_info": {
   "codemirror_mode": {
    "name": "ipython",
    "version": 3
   },
   "file_extension": ".py",
   "mimetype": "text/x-python",
   "name": "python",
   "nbconvert_exporter": "python",
   "pygments_lexer": "ipython3",
   "version": "3.8.10"
  }
 },
 "nbformat": 4,
 "nbformat_minor": 5
}
