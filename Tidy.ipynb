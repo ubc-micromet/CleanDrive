{
 "cells": [
  {
   "cell_type": "markdown",
   "id": "e74a5409",
   "metadata": {},
   "source": [
    "# Clean up files and subfolders in a directory\n"
   ]
  },
  {
   "cell_type": "code",
   "execution_count": 114,
   "id": "507980ba",
   "metadata": {},
   "outputs": [
    {
     "name": "stdout",
     "output_type": "stream",
     "text": [
      "There are 0 items in: G:\\My Drive/Dummy2/  \n",
      "\n",
      "That will be checked against: G:\\My Drive/Dummy1/ \n",
      "\n",
      "If they are not diplicates, they will be moved to the destination.\n",
      " Otherwise,  you will be given the option to delete them.\n"
     ]
    }
   ],
   "source": [
    "import os\n",
    "import shutil\n",
    "import time\n",
    "import ipywidgets\n",
    "\n",
    "# Different for every user\n",
    "Drive = 'G:\\\\My Drive/'\n",
    "\n",
    "# Destination Folder\n",
    "Destination = Drive+'Dummy1/'\n",
    "\n",
    "# Source Folder\n",
    "## Note setting source to destination will allow you to delete without checking\n",
    "Source = Drive+'Dummy2/'\n",
    "\n",
    "# Set to list of types of files to filter, e.g. ['csv','tmp']\n",
    "# Set to ['ALL_FILE_TYPES'] if you want to inclue all file types\n",
    "File_Types = ['csv']\n",
    "\n",
    "# Set to True to attempt recursive search of all sub folders to be pattern matched with destination\n",
    "Search_SubFolders = False\n",
    "\n",
    "# Calculate how many files are in the extra folder\n",
    "# Walk through all sub folders\n",
    "# Filter by File_Types\n",
    "Items_to_Move = []\n",
    "for root,subfolders,files in os.walk(Source):\n",
    "    for file in files:\n",
    "        path = (root.split(Source)[-1])\n",
    "        if len(path)==0:\n",
    "            if file.split('.')[-1] in File_Types:\n",
    "                Items_to_Move.append(file) \n",
    "            elif File_Types == ['ALL_FILE_TYPES']:\n",
    "                Items_to_Move.append(file)\n",
    "            \n",
    "        else Search_SubFolders == True:\n",
    "            if file.split('.')[-1] in File_Types:\n",
    "                Items_to_Move.append(path+'/'+file) \n",
    "            elif File_Types == ['ALL_FILE_TYPES']:\n",
    "                Items_to_Move.append(path+'/'+file)\n",
    "            \n",
    "#        \n",
    "                                   \n",
    "print('There are',str(len(Items_to_Move)), 'items in:',Source,\n",
    "      ' \\n\\nThat will be checked against:',Destination,\n",
    "      '\\n\\nIf they are not diplicates, they will be moved to the destination.\\n Otherwise, ',\n",
    "      'you will be given the option to delete them.')"
   ]
  },
  {
   "cell_type": "markdown",
   "id": "ed725323",
   "metadata": {},
   "source": [
    "# Move or Delete the files"
   ]
  },
  {
   "cell_type": "code",
   "execution_count": 111,
   "id": "2d73e555",
   "metadata": {},
   "outputs": [
    {
     "name": "stdout",
     "output_type": "stream",
     "text": [
      "Warning!  Recursive search will inpsect ALL subfolders and could delete unexpected files\n",
      "Confirm to proceed: Y/NY\n"
     ]
    },
    {
     "data": {
      "application/vnd.jupyter.widget-view+json": {
       "model_id": "1052468cd2c8453090eb934c8ed411bb",
       "version_major": 2,
       "version_minor": 0
      },
      "text/plain": [
       "FloatProgress(value=0.0, description='Progress:')"
      ]
     },
     "metadata": {},
     "output_type": "display_data"
    },
    {
     "data": {
      "application/vnd.jupyter.widget-view+json": {
       "model_id": "931081e888374aac91e8de2bd3c5596c",
       "version_major": 2,
       "version_minor": 0
      },
      "text/plain": [
       "Text(value='', description='Current File:')"
      ]
     },
     "metadata": {},
     "output_type": "display_data"
    },
    {
     "name": "stdout",
     "output_type": "stream",
     "text": [
      "Moved  0  Files\n",
      "46  files of types:  ['ALL_FILE_TYPES']  remaining in:  G:\\My Drive/test/\n",
      "Delete these duplicates this folder ? Y/N:Y\n",
      "0  files of any kind remaining in  G:\\My Drive/test/\n",
      "Remove Empty Directory:  G:\\My Drive/test/\n",
      "Y/N: y\n",
      "Done\n"
     ]
    }
   ],
   "source": [
    "Proceed = 'N'\n",
    "if Search_SubFolders == False:\n",
    "    Proceed = 'Y'\n",
    "elif Search_SubFolders == True:\n",
    "    print('Warning!  Recursive search will inpsect ALL subfolders and could delete unexpected files')\n",
    "    Proceed = input('Confirm to proceed: Y/N')\n",
    "if Proceed == 'Y' or Proceed == 'y':\n",
    "    # Progress Bar\n",
    "    i = 0\n",
    "    prog = ipywidgets.FloatProgress(min=0, max=100,description='Progress:',width='100%')\n",
    "    current = ipywidgets.Text(value = '',description='Current File:',width='100%')\n",
    "    prog.value=0\n",
    "    display(prog)\n",
    "    display(current)\n",
    "\n",
    "    # Move non-duplicates to destination\n",
    "    # Identify duplicates\n",
    "    Duplicated = []\n",
    "    moved = 0\n",
    "    if Source != Destination:\n",
    "        for item in Items_to_Move:\n",
    "            i+=1\n",
    "            prog.value=i/len(Items_to_Move)*100\n",
    "            current.value=item\n",
    "            if not os.path.exists(Destination+'/'+item):\n",
    "                os.rename(Source+'/'+item, Destination+'/'+item)\n",
    "                moved += 1\n",
    "            else:\n",
    "                Duplicated.append(item)\n",
    "    else:\n",
    "        Duplicated = Items_to_Move\n",
    "        \n",
    "    prog.value=100\n",
    "    time.sleep(.5)     \n",
    "    print('Moved ',moved, ' Files')\n",
    "\n",
    "    # Remove duplicates\n",
    "    if len(Duplicated) > 0:\n",
    "        print(str(len(Duplicated)), ' files of types: ',File_Types,' remaining in: ',Source)\n",
    "        Del = input('Delete these duplicates in this folder ? Y/N:')\n",
    "        if Del == 'Y' or Del == 'y':\n",
    "            i = 0\n",
    "            prog.value=0\n",
    "            for item in Duplicated:\n",
    "                current.value=item\n",
    "                prog.value=i/len(Duplicated)*100\n",
    "                os.remove(Source+'/'+item)\n",
    "                i+=1\n",
    "\n",
    "    prog.value=100\n",
    "    time.sleep(.5)            \n",
    "    # Check if folder is empyt, ask for permissoin to delete if so\n",
    "    # Items_Remaining = os.listdir(Source)\n",
    "    Items_Remaining = []\n",
    "    for root,subfolders,files in os.walk(Source):\n",
    "        for file in files:\n",
    "            path = (root.split(Source)[-1])\n",
    "            if len(path)==0:\n",
    "                Items_Remaining.append(file)\n",
    "\n",
    "            else:\n",
    "                Items_Remaining.append(path+'/'+file)\n",
    "\n",
    "\n",
    "    if len(Items_Remaining) == 0:\n",
    "        print(str(len(Items_Remaining)), ' files of any kind remaining in ',Source)\n",
    "        print('Remove Empty Directory: ',Source)\n",
    "        Del = input('Y/N: ')\n",
    "        if Del == 'Y' or Del == 'y':\n",
    "            shutil.rmtree(Source)\n",
    "    else:\n",
    "        print(str(len(Items_Remaining)), ' files remaining in ',Source)\n",
    "\n",
    "\n",
    "print('Done')"
   ]
  },
  {
   "cell_type": "code",
   "execution_count": null,
   "id": "7bdef929",
   "metadata": {},
   "outputs": [],
   "source": []
  }
 ],
 "metadata": {
  "kernelspec": {
   "display_name": "Python 3 (ipykernel)",
   "language": "python",
   "name": "python3"
  },
  "language_info": {
   "codemirror_mode": {
    "name": "ipython",
    "version": 3
   },
   "file_extension": ".py",
   "mimetype": "text/x-python",
   "name": "python",
   "nbconvert_exporter": "python",
   "pygments_lexer": "ipython3",
   "version": "3.9.12"
  }
 },
 "nbformat": 4,
 "nbformat_minor": 5
}
